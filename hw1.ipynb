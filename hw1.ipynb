{
 "cells": [
  {
   "cell_type": "markdown",
   "metadata": {},
   "source": [
    "## Homework 1"
   ]
  },
  {
   "cell_type": "markdown",
   "metadata": {},
   "source": [
    "### Excercise 1"
   ]
  },
  {
   "cell_type": "code",
   "execution_count": 9,
   "metadata": {},
   "outputs": [
    {
     "name": "stdout",
     "output_type": "stream",
     "text": [
      "Фраза 1 длиннее фразы 2\n"
     ]
    }
   ],
   "source": [
    "phrase_1 = 'Apple'\n",
    "phrase_2 = 'Pen'\n",
    "\n",
    "if len(phrase_1) > len(phrase_2):\n",
    "    print('Фраза 1 длиннее фразы 2')\n",
    "elif len(phrase_1) < len(phrase_2):\n",
    "    print('Фраза 2 длиннее фразы 1')\n",
    "else:\n",
    "    print('Длины фразы 1 и фразы 2 равны')"
   ]
  },
  {
   "cell_type": "markdown",
   "metadata": {},
   "source": [
    "### Excercise 2"
   ]
  },
  {
   "cell_type": "code",
   "execution_count": 23,
   "metadata": {},
   "outputs": [
    {
     "name": "stdout",
     "output_type": "stream",
     "text": [
      "Введите год2060\n",
      "2060 -й год является високосным\n"
     ]
    }
   ],
   "source": [
    "year = int(input('Введите год'))\n",
    "\n",
    "if (year % 400 == 0) or ((year % 100 != 0) and (year % 4 == 0)):\n",
    "    print(year,'-й год является високосным')\n",
    "else:\n",
    "    print(year,'-й год не является високосным')"
   ]
  },
  {
   "cell_type": "markdown",
   "metadata": {},
   "source": [
    "### Excercise 3"
   ]
  },
  {
   "cell_type": "code",
   "execution_count": 45,
   "metadata": {},
   "outputs": [
    {
     "name": "stdout",
     "output_type": "stream",
     "text": [
      "Введите месяц своего рождения\n",
      "Кек\n",
      "Введите месяц своего рождения\n",
      "Квек\n",
      "Введите число своего рождения\n",
      "200\n",
      "Введите число своего рождения\n",
      "20\n"
     ]
    }
   ],
   "source": [
    "print('Введите месяц своего рождения')\n",
    "birthMonth = str(input())\n",
    "if not ((birthMonth == 'Январь') or\n",
    "(birthMonth == 'Февраль') or\n",
    "(birthMonth == 'Март') or\n",
    "(birthMonth == 'Апрель') or\n",
    "(birthMonth == 'Май') or\n",
    "(birthMonth == 'Июнь') or\n",
    "(birthMonth == 'Июль') or\n",
    "(birthMonth == 'Август') or\n",
    "(birthMonth == 'Сентябрь') or\n",
    "(birthMonth == 'Октябрь') or\n",
    "(birthMonth == 'Ноябрь') or\n",
    "(birthMonth == 'Декабрь')):\n",
    "    print('Введите месяц своего рождения')\n",
    "    birthMonth = str(input())\n",
    "\n",
    "\n",
    "print('Введите число своего рождения')\n",
    "birthDay = int(input())\n",
    "if (birthDay > 31) or (birthMonth == 'Февраль' and birthDay > 29):\n",
    "    print('Введите число своего рождения')\n",
    "    birthDay = int(input())\n",
    "\n",
    "if birthMonth == 'Январь':\n",
    "    birthMonth = int(1)\n",
    "elif birthMonth == 'Февраль':\n",
    "    birthMonth = int(2)\n",
    "elif birthMonth == 'Март':\n",
    "    birthMonth = int(3)\n",
    "elif birthMonth == 'Апрель':\n",
    "    birthMonth = int(4)\n",
    "elif birthMonth == 'Май':\n",
    "    birthMonth = int(5)\n",
    "elif birthMonth == 'Июнь':\n",
    "    birthMonth = int(6)\n",
    "elif birthMonth == 'Июль':\n",
    "    birthMonth = int(7)\n",
    "elif birthMonth == 'Август':\n",
    "    birthMonth = int(8)\n",
    "elif birthMonth == 'Сентябрь':\n",
    "    birthMonth = int(9)\n",
    "elif birthMonth == 'Октябрь':\n",
    "    birthMonth = int(10)\n",
    "elif birthMonth == 'Ноябрь':\n",
    "    birthMonth = int(11)\n",
    "elif birthMonth == 'Декабрь':\n",
    "    birthMonth = int(12)\n",
    "    \n",
    "if ((birthMonth == 12) and (birthDay >= 18)) or ((birthMonth == 1) and (birthDay <= 18)):\n",
    "    print('Ваш знак зодиака - Стрелец')\n",
    "elif ((birthMonth == 1) and (birthDay >= 19)) or ((birthMonth == 2) and (birthDay <= 15)):\n",
    "    print('Ваш знак зодиака - Козерог')\n",
    "elif ((birthMonth == 2) and (birthDay >= 16)) or ((birthMonth == 3) and (birthDay <= 11)):\n",
    "    print('Ваш знак зодиака - Водолей')\n",
    "elif ((birthMonth == 3) and (birthDay >= 12)) or ((birthMonth == 4) and (birthDay <= 18)):\n",
    "    print('Ваш знак зодиака - Рыбы')\n",
    "elif ((birthMonth == 4) and (birthDay >= 19)) or ((birthMonth == 5) and (birthDay <= 13)):\n",
    "    print('Ваш знак зодиака - Овен')\n",
    "elif ((birthMonth == 5) and (birthDay >= 14)) or ((birthMonth == 6) and (birthDay <= 19)):\n",
    "    print('Ваш знак зодиака - Телец')\n",
    "elif ((birthMonth == 6) and (birthDay >= 20)) or ((birthMonth == 7) and (birthDay <= 20)):\n",
    "    print('Ваш знак зодиака - Близнецы')\n",
    "elif ((birthMonth == 7) and (birthDay >= 21)) or ((birthMonth == 8) and (birthDay <= 9)):\n",
    "    print('Ваш знак зодиака - Рак')\n",
    "elif ((birthMonth == 8) and (birthDay >= 10)) or ((birthMonth == 9) and (birthDay <= 15)):\n",
    "    print('Ваш знак зодиака - Лев')\n",
    "elif ((birthMonth == 9) and (birthDay >= 16)) or ((birthMonth == 10) and (birthDay <= 30)):\n",
    "    print('Ваш знак зодиака - Дева')\n",
    "elif ((birthMonth == 10) and (birthDay >= 31)) or ((birthMonth == 11) and (birthDay <= 22)):\n",
    "    print('Ваш знак зодиака - Весы')\n",
    "elif ((birthMonth == 11) and (birthDay >= 23)) or ((birthMonth == 11) and (birthDay <= 29)):\n",
    "    print('Ваш знак зодиака - Скорпион')\n",
    "elif ((birthMonth == 11) and (birthDay >= 30)) or ((birthMonth == 12) and (birthDay <= 17)):\n",
    "    print('Ваш знак зодиака - Змееносец')"
   ]
  },
  {
   "cell_type": "markdown",
   "metadata": {},
   "source": [
    "### Excercise 4"
   ]
  },
  {
   "cell_type": "code",
   "execution_count": 50,
   "metadata": {},
   "outputs": [
    {
     "name": "stdout",
     "output_type": "stream",
     "text": [
      "Введите ширину в см48\n",
      "Введите длину в см48\n",
      "Введите высоту в см1\n",
      "Коробка №2\n"
     ]
    }
   ],
   "source": [
    "width = int(input('Введите ширину в см'))\n",
    "length = int(input('Введите длину в см'))\n",
    "height = int(input('Введите высоту в см'))\n",
    "\n",
    "if (width < 15) and (length < 15) and (height < 15):\n",
    "    print('Коробка №1')\n",
    "elif (15 <= width < 50) or (15 <= length < 50) or (15 <= height < 50):\n",
    "    print('Коробка №2')\n",
    "elif length > 200:\n",
    "    print('Упаковка для лыж')\n",
    "else:\n",
    "    print('Стандартная коробка №3')"
   ]
  },
  {
   "cell_type": "markdown",
   "metadata": {},
   "source": [
    "### Excercise 5"
   ]
  },
  {
   "cell_type": "code",
   "execution_count": 59,
   "metadata": {},
   "outputs": [
    {
     "name": "stdout",
     "output_type": "stream",
     "text": [
      "Введите номер билета141222\n",
      "Счастливый билет\n"
     ]
    }
   ],
   "source": [
    "ticket = str(input('Введите номер билета'))\n",
    "if len(ticket) > 6:\n",
    "    print('Неверный формат. Повторите ввод')\n",
    "    ticket = int(input())\n",
    "\n",
    "if int(ticket[0])+int(ticket[1])+int(ticket[2]) == int(ticket[3])+int(ticket[4])+int(ticket[5]):\n",
    "    print('Счастливый билет')\n",
    "else:\n",
    "    print('Несчастливый билет')"
   ]
  },
  {
   "cell_type": "markdown",
   "metadata": {},
   "source": [
    "### Excercise 6"
   ]
  },
  {
   "cell_type": "code",
   "execution_count": 9,
   "metadata": {},
   "outputs": [
    {
     "name": "stdout",
     "output_type": "stream",
     "text": [
      "Введите требуюмую фигуру\n",
      "Круг\n",
      "Введите радиус круга3\n",
      "Площадь круга равна 28.274333882308138 кв. ед.\n"
     ]
    }
   ],
   "source": [
    "import math\n",
    "\n",
    "print('Введите требуюмую фигуру')\n",
    "figure = str(input())\n",
    "\n",
    "if figure == 'Треугольник':\n",
    "    lenA = int(input('Введите длину стороны А'))\n",
    "    lenB = int(input('Введите длину стороны B'))\n",
    "    lenC = int(input('Введите длину стороны C'))\n",
    "    halfPerimeter = (lenA + lenB + lenC) / 2\n",
    "    area = math.sqrt(halfPerimeter*(halfPerimeter - lenA)*(halfPerimeter - lenB)*(halfPerimeter - lenC))\n",
    "    print('Площадь треугольника равна', area, 'кв. ед.')\n",
    "elif figure == 'Прямоугольник':\n",
    "    lenA = int(input('Введите длину стороны А'))\n",
    "    lenB = int(input('Введите длину стороны B'))\n",
    "    area = lenA * lenB\n",
    "    print('Площадь прямоугольник равна', area, 'кв. ед.')\n",
    "elif figure == 'Круг':\n",
    "    radius = int(input('Введите радиус круга'))\n",
    "    area = math.pi * radius ** 2\n",
    "    print('Площадь круга равна', area, 'кв. ед.')"
   ]
  }
 ],
 "metadata": {
  "kernelspec": {
   "display_name": "Python 3",
   "language": "python",
   "name": "python3"
  },
  "language_info": {
   "codemirror_mode": {
    "name": "ipython",
    "version": 3
   },
   "file_extension": ".py",
   "mimetype": "text/x-python",
   "name": "python",
   "nbconvert_exporter": "python",
   "pygments_lexer": "ipython3",
   "version": "3.8.5"
  }
 },
 "nbformat": 4,
 "nbformat_minor": 4
}
